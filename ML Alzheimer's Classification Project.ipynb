{
 "cells": [
  {
   "cell_type": "code",
   "execution_count": 1,
   "id": "de1a8f0d",
   "metadata": {},
   "outputs": [
    {
     "name": "stdout",
     "output_type": "stream",
     "text": [
      "Hi\n"
     ]
    }
   ],
   "source": [
    "import numpy as np\n",
    "import pandas as pd\n",
    "import matplotlib.pyplot as plt\n",
    "import matplotlib.image as img\n",
    "import scipy.stats as stats\n",
    "import numpy.polynomial.polynomial as poly\n",
    "from sklearn.linear_model import LogisticRegression\n",
    "from sklearn.model_selection import train_test_split\n",
    "from sklearn import preprocessing\n",
    "from sklearn.neural_network import MLPClassifier\n",
    "from sklearn.preprocessing import PolynomialFeatures\n",
    "from glob import glob\n",
    "from sklearn.metrics import accuracy_score\n",
    "from sklearn.decomposition import PCA\n",
    "from sklearn.svm import SVC\n",
    "print(\"Hi\")\n",
    "'''\n",
    "The following code was implemented in Jupyter Notebook\n",
    "As such, running the code strictly linearly will most likely not yield the same results as we did, \n",
    "due to randomized test-train split, the selective running of different cells for \n",
    "different X_trains (for feature transformations), and other unforeseen issues.\n",
    "'''"
   ]
  },
  {
   "cell_type": "code",
   "execution_count": 2,
   "id": "c70b8053",
   "metadata": {},
   "outputs": [],
   "source": [
    "#Load data\n",
    "#Replace with your own directory for where the dataset is\n",
    "very_mild = glob(r'C:\\Dataset\\Very_Mild_Demented\\*')\n",
    "mild = glob(r'C:\\Dataset\\Mild_Demented\\*')\n",
    "moderate = glob(r'C:\\Dataset\\Moderate_Demented\\*')\n",
    "non = glob(r'C:\\Dataset/Non_Demented\\*')\n",
    "\n",
    "def view_image(directory):\n",
    "    img = mpimg.imread(directory)\n",
    "    plt.imshow(img)\n",
    "    plt.title(directory)\n",
    "    plt.axis('off')\n",
    "    print(f'Image shape:{img.shape}')\n",
    "    return img"
   ]
  },
  {
   "cell_type": "code",
   "execution_count": 3,
   "id": "e559e9fd",
   "metadata": {},
   "outputs": [
    {
     "name": "stdout",
     "output_type": "stream",
     "text": [
      "(64, 16384)\n",
      "(64, 4)\n"
     ]
    }
   ],
   "source": [
    "#For moderate\n",
    "N = 64\n",
    "moderateX = np.array(img.imread(moderate[0]).flatten())\n",
    "moderateY = np.array([1, 0, 0, 0])\n",
    "for i in range(1, N):\n",
    "    x = img.imread(moderate[i]).flatten()\n",
    "    y = np.array([1, 0, 0, 0])\n",
    "    moderateX = np.vstack((moderateX, x))\n",
    "    moderateY = np.vstack((moderateY, y))\n",
    "#print(moderateX)\n",
    "#print(moderateY)\n",
    "print(moderateX.shape)\n",
    "print(moderateY.shape)"
   ]
  },
  {
   "cell_type": "code",
   "execution_count": 4,
   "id": "b7e11ec5",
   "metadata": {},
   "outputs": [
    {
     "name": "stdout",
     "output_type": "stream",
     "text": [
      "(3200, 16384)\n",
      "(3200, 4)\n"
     ]
    }
   ],
   "source": [
    "#For non-demented\n",
    "N = 3200\n",
    "nonX = np.array(img.imread(non[0]).flatten())\n",
    "nonY = np.array([0, 1, 0, 0])\n",
    "for i in range(1, N):\n",
    "    x = img.imread(non[i]).flatten()\n",
    "    y = np.array([0, 1, 0, 0])\n",
    "    nonX = np.vstack((nonX, x))\n",
    "    nonY = np.vstack((nonY, y))\n",
    "#print(nonX)\n",
    "#print(nonY)\n",
    "print(nonX.shape)\n",
    "print(nonY.shape)"
   ]
  },
  {
   "cell_type": "code",
   "execution_count": 5,
   "id": "f2fc424a",
   "metadata": {},
   "outputs": [
    {
     "name": "stdout",
     "output_type": "stream",
     "text": [
      "(2240, 16384)\n",
      "(2240, 4)\n"
     ]
    }
   ],
   "source": [
    "#For very mild\n",
    "N = 2240\n",
    "very_mildX = np.array(img.imread(very_mild[0]).flatten())\n",
    "very_mildY = np.array([0, 0, 1, 0])\n",
    "for i in range(1, N):\n",
    "    x = img.imread(very_mild[i]).flatten()\n",
    "    y = np.array([0, 0, 1, 0])\n",
    "    very_mildX = np.vstack((very_mildX, x))\n",
    "    very_mildY = np.vstack((very_mildY, y))\n",
    "#print(very_mildX)\n",
    "#print(very_mildY)\n",
    "print(very_mildX.shape)\n",
    "print(very_mildY.shape)\n"
   ]
  },
  {
   "cell_type": "code",
   "execution_count": 6,
   "id": "da86c127",
   "metadata": {},
   "outputs": [
    {
     "name": "stdout",
     "output_type": "stream",
     "text": [
      "(896, 16384)\n",
      "(896, 4)\n"
     ]
    }
   ],
   "source": [
    "#For mild\n",
    "N = 896\n",
    "mildX = np.array(img.imread(mild[0]).flatten())\n",
    "mildY = np.array([0, 0, 0, 1])\n",
    "for i in range(1, N):\n",
    "    x = img.imread(mild[i]).flatten()\n",
    "    y = np.array([0, 0, 0, 1])\n",
    "    mildX = np.vstack((mildX, x))\n",
    "    mildY = np.vstack((mildY, y))\n",
    "#print(mildX)\n",
    "#print(mildY)\n",
    "print(mildX.shape)\n",
    "print(mildY.shape)\n"
   ]
  },
  {
   "cell_type": "code",
   "execution_count": 7,
   "id": "72093e7f",
   "metadata": {},
   "outputs": [
    {
     "name": "stdout",
     "output_type": "stream",
     "text": [
      "(6400, 16384)\n",
      "(6400, 4)\n"
     ]
    }
   ],
   "source": [
    "#for final\n",
    "finalX = np.vstack((moderateX, mildX, very_mildX, nonX))\n",
    "finalY = np.vstack((moderateY, mildY, very_mildY, nonY))\n",
    "print(finalX.shape)\n",
    "print(finalY.shape)"
   ]
  },
  {
   "cell_type": "code",
   "execution_count": 8,
   "id": "5ef10260",
   "metadata": {},
   "outputs": [
    {
     "name": "stdout",
     "output_type": "stream",
     "text": [
      "(6400,)\n"
     ]
    }
   ],
   "source": [
    "#Logistic Regression\n",
    "logY = np.hstack((np.zeros(64,), np.ones(3200,), 2 * np.ones(2240,), 3 * np.ones(896,)))\n",
    "print(logY.shape)"
   ]
  },
  {
   "cell_type": "code",
   "execution_count": 9,
   "id": "3c1e929b",
   "metadata": {
    "scrolled": true
   },
   "outputs": [
    {
     "name": "stdout",
     "output_type": "stream",
     "text": [
      "Hello\n"
     ]
    }
   ],
   "source": [
    "X_new = preprocessing.StandardScaler().fit_transform(finalX)\n",
    "X_train, X_val, y_train, y_val = train_test_split(X_new, logY, test_size = 0.05, random_state=10, shuffle=True)\n",
    "#X_train, X_val, y_train, y_val = train_test_split(X_new, logY, test_size = 0.05, random_state=20, shuffle=True)\n",
    "print(\"Hello\")"
   ]
  },
  {
   "cell_type": "code",
   "execution_count": 10,
   "id": "806957f1",
   "metadata": {},
   "outputs": [
    {
     "name": "stdout",
     "output_type": "stream",
     "text": [
      "[[0. 0. 0. ... 0. 0. 0.]\n",
      " [0. 0. 0. ... 0. 0. 0.]\n",
      " [0. 0. 0. ... 0. 0. 0.]\n",
      " ...\n",
      " [0. 0. 0. ... 0. 0. 0.]\n",
      " [0. 0. 0. ... 0. 0. 0.]\n",
      " [0. 0. 0. ... 0. 0. 0.]]\n"
     ]
    },
    {
     "data": {
      "image/png": "[encoded data removed]",
      "text/plain": [
       "<Figure size 432x288 with 1 Axes>"
      ]
     },
     "metadata": {
      "needs_background": "light"
     },
     "output_type": "display_data"
    }
   ],
   "source": [
    "plt.imshow(X_train[0].reshape(128,128))\n",
    "plt.title(\"Before PCA'd\")\n",
    "plt.axis('off')\n",
    "print(X_train[0].reshape(128,128))"
   ]
  },
  {
   "cell_type": "code",
   "execution_count": 15,
   "id": "a454b4d6",
   "metadata": {},
   "outputs": [
    {
     "name": "stdout",
     "output_type": "stream",
     "text": [
      "0.1575601113790008\n",
      "[0. 0. 0. ... 0. 0. 0.]\n",
      "99614720\n",
      "(6080, 16384)\n"
     ]
    }
   ],
   "source": [
    "#Attempting to Display PCA'd X\n",
    "X_temp = X_train\n",
    "pca = PCA(n_components = 1)\n",
    "pca.fit_transform(X_train)\n",
    "print(sum(pca.explained_variance_ratio_))"
   ]
  },
  {
   "cell_type": "code",
   "execution_count": 21,
   "id": "bf85af14",
   "metadata": {},
   "outputs": [
    {
     "data": {
      "text/plain": [
       "(-0.5, 127.5, 127.5, -0.5)"
      ]
     },
     "execution_count": 21,
     "metadata": {},
     "output_type": "execute_result"
    },
    {
     "data": {
      "image/png": "[encoded data removed]",
      "text/plain": [
       "<Figure size 432x288 with 1 Axes>"
      ]
     },
     "metadata": {
      "needs_background": "light"
     },
     "output_type": "display_data"
    }
   ],
   "source": [
    "#plt.imshow(X_train[0].reshape(128,128))\n",
    "plt.imshow(pca.components_.reshape(128,128))\n",
    "plt.title(\"PCA'd\")\n",
    "plt.axis('off')"
   ]
  },
  {
   "cell_type": "code",
   "execution_count": null,
   "id": "65140981",
   "metadata": {},
   "outputs": [],
   "source": [
    "#Attempting to Display PCA'd X\n",
    "pca = PCA(n_components = 0)\n",
    "pca.fit_transform(X_train)\n",
    "print(sum(pca.explained_variance_ratio_))\n",
    "plt.imshow(X_train[0].reshape(128,128))\n",
    "plt.title(\"PCA'd\")\n",
    "plt.axis('off')"
   ]
  },
  {
   "cell_type": "code",
   "execution_count": 10,
   "id": "2600c8bc",
   "metadata": {},
   "outputs": [
    {
     "name": "stdout",
     "output_type": "stream",
     "text": [
      "[1.57560111e-01 7.08331411e-02 6.31560938e-02 ... 1.45031985e-07\n",
      " 1.40645019e-07 1.95936243e-32]\n",
      "6080\n"
     ]
    }
   ],
   "source": [
    "#PCA test\n",
    "pca = PCA()\n",
    "pca.fit(X_train)\n",
    "print(pca.explained_variance_ratio_)\n",
    "print(pca.n_components_)"
   ]
  },
  {
   "cell_type": "code",
   "execution_count": 32,
   "id": "0be19137",
   "metadata": {},
   "outputs": [
    {
     "name": "stdout",
     "output_type": "stream",
     "text": [
      "1000\n"
     ]
    }
   ],
   "source": [
    "pca = PCA(n_components = 1000)\n",
    "pca.fit_transform(X_train)\n",
    "print(pca.n_components_)"
   ]
  },
  {
   "cell_type": "code",
   "execution_count": 14,
   "id": "316b20f7",
   "metadata": {},
   "outputs": [
    {
     "name": "stdout",
     "output_type": "stream",
     "text": [
      "PCA: Logistic regression + l2 regularization, C = .01\n",
      "Test accuracy is 100.0%\n",
      "Val accuracy is 90.0%\n"
     ]
    }
   ],
   "source": [
    "logreg = LogisticRegression(penalty='l2', C = 0.01, multi_class = 'multinomial', max_iter = 800)\n",
    "logreg.fit(X_train, y_train)\n",
    "print(\"PCA: Logistic regression + l2 regularization, C = .01\")\n",
    "y_pred = logreg.predict(X_train)\n",
    "print('Test accuracy is {}%'.format(accuracy_score(y_train, y_pred) * 100))\n",
    "pca.transform(X_val)\n",
    "y_pred = logreg.predict(X_val)\n",
    "print('Val accuracy is {}%'.format(accuracy_score(y_val, y_pred) * 100))"
   ]
  },
  {
   "cell_type": "code",
   "execution_count": 15,
   "id": "99bfeac9",
   "metadata": {},
   "outputs": [
    {
     "name": "stdout",
     "output_type": "stream",
     "text": [
      "500\n",
      "PCA: Logistic regression + l2 regularization, C = .01, 500 components\n",
      "Test accuracy is 100.0%\n",
      "Val accuracy is 90.0%\n"
     ]
    }
   ],
   "source": [
    "pca = PCA(n_components = 500)\n",
    "pca.fit_transform(X_train)\n",
    "print(pca.n_components_)\n",
    "logreg = LogisticRegression(penalty='l2', C = 0.01, multi_class = 'multinomial', max_iter = 800)\n",
    "logreg.fit(X_train, y_train)\n",
    "print(\"PCA: Logistic regression + l2 regularization, C = .01, 500 components\")\n",
    "y_pred = logreg.predict(X_train)\n",
    "print('Test accuracy is {}%'.format(accuracy_score(y_train, y_pred) * 100))\n",
    "pca.transform(X_val)\n",
    "y_pred = logreg.predict(X_val)\n",
    "print('Val accuracy is {}%'.format(accuracy_score(y_val, y_pred) * 100))"
   ]
  },
  {
   "cell_type": "code",
   "execution_count": 16,
   "id": "22aa75c1",
   "metadata": {},
   "outputs": [
    {
     "name": "stdout",
     "output_type": "stream",
     "text": [
      "100\n",
      "PCA: Logistic regression + l2 regularization, C = .01, 100 components\n",
      "Test accuracy is 100.0%\n",
      "Val accuracy is 90.0%\n"
     ]
    }
   ],
   "source": [
    "pca = PCA(n_components = 100)\n",
    "pca.fit_transform(X_train)\n",
    "print(pca.n_components_)\n",
    "logreg = LogisticRegression(penalty='l2', C = 0.01, multi_class = 'multinomial', max_iter = 800)\n",
    "logreg.fit(X_train, y_train)\n",
    "print(\"PCA: Logistic regression + l2 regularization, C = .01, 100 components\")\n",
    "y_pred = logreg.predict(X_train)\n",
    "print('Test accuracy is {}%'.format(accuracy_score(y_train, y_pred) * 100))\n",
    "pca.transform(X_val)\n",
    "y_pred = logreg.predict(X_val)\n",
    "print('Val accuracy is {}%'.format(accuracy_score(y_val, y_pred) * 100))"
   ]
  },
  {
   "cell_type": "code",
   "execution_count": 20,
   "id": "26cb1628",
   "metadata": {},
   "outputs": [
    {
     "data": {
      "text/plain": [
       "array([[-47.82467916,  -4.67290957,  33.03229757, ...,   2.16733309,\n",
       "          2.02913624,   0.34573359],\n",
       "       [-16.27578754,  17.21566356, -20.70985669, ...,  -0.85920016,\n",
       "          0.75735391,   1.09107129],\n",
       "       [ -6.48790473, -55.61872295, -23.98263123, ...,  -1.69722668,\n",
       "          1.81434675,  -0.86819484],\n",
       "       ...,\n",
       "       [-13.51795499, -17.9046691 , -45.50962358, ...,   0.69861256,\n",
       "         -0.12469063,   0.566023  ],\n",
       "       [-47.9228473 ,  29.58691093,   9.02833358, ...,   0.71681245,\n",
       "          1.04611983,  -1.37387607],\n",
       "       [-52.99379612,  -8.60736157,  25.69547189, ...,  -0.671138  ,\n",
       "          0.0970157 ,   0.61279829]])"
      ]
     },
     "execution_count": 20,
     "metadata": {},
     "output_type": "execute_result"
    }
   ],
   "source": [
    "pca = PCA(n_components = 1000)\n",
    "pca.fit_transform(X_train)\n",
    "pca.transform(X_val)"
   ]
  },
  {
   "cell_type": "code",
   "execution_count": 27,
   "id": "9c0323ad",
   "metadata": {},
   "outputs": [
    {
     "name": "stdout",
     "output_type": "stream",
     "text": [
      "[LibSVM]PCA: SVM + l2 regularization, C = 10, 1000 components\n",
      "Test accuracy is 100.0%\n",
      "Val accuracy is 90.0%\n"
     ]
    }
   ],
   "source": [
    "svc = SVC(C = 10, kernel=\"rbf\", verbose=10)\n",
    "svc.fit(X_train,y_train)\n",
    "print(\"PCA: SVM + l2 regularization, C = 10, 1000 components\")\n",
    "y_pred = logreg.predict(X_train)\n",
    "print('Test accuracy is {}%'.format(accuracy_score(y_train, y_pred) * 100))\n",
    "y_pred = logreg.predict(X_val)\n",
    "print('Val accuracy is {}%'.format(accuracy_score(y_val, y_pred) * 100))"
   ]
  },
  {
   "cell_type": "code",
   "execution_count": 28,
   "id": "ec4eb2de",
   "metadata": {},
   "outputs": [
    {
     "name": "stdout",
     "output_type": "stream",
     "text": [
      "[LibSVM]PCA: SVM + l2 regularization, C = 10, 100 components\n",
      "Test accuracy is 100.0%\n",
      "Val accuracy is 90.0%\n"
     ]
    }
   ],
   "source": [
    "pca = PCA(n_components = 100)\n",
    "pca.fit_transform(X_train)\n",
    "pca.transform(X_val)\n",
    "svc = SVC(C = 10, kernel=\"rbf\", verbose=10)\n",
    "svc.fit(X_train,y_train)\n",
    "print(\"PCA: SVM + l2 regularization, C = 10, 100 components\")\n",
    "y_pred = logreg.predict(X_train)\n",
    "print('Test accuracy is {}%'.format(accuracy_score(y_train, y_pred) * 100))\n",
    "y_pred = logreg.predict(X_val)\n",
    "print('Val accuracy is {}%'.format(accuracy_score(y_val, y_pred) * 100))"
   ]
  },
  {
   "cell_type": "code",
   "execution_count": 29,
   "id": "8f500a0e",
   "metadata": {},
   "outputs": [
    {
     "name": "stdout",
     "output_type": "stream",
     "text": [
      "[LibSVM]PCA: SVM + l2 regularization, C = 10, 500 components\n",
      "Test accuracy is 100.0%\n",
      "Val accuracy is 90.0%\n"
     ]
    }
   ],
   "source": [
    "pca = PCA(n_components = 500)\n",
    "pca.fit_transform(X_train)\n",
    "pca.transform(X_val)\n",
    "svc = SVC(C = 10, kernel=\"rbf\", verbose=10)\n",
    "svc.fit(X_train,y_train)\n",
    "print(\"PCA: SVM + l2 regularization, C = 10, 500 components\")\n",
    "y_pred = logreg.predict(X_train)\n",
    "print('Test accuracy is {}%'.format(accuracy_score(y_train, y_pred) * 100))\n",
    "y_pred = logreg.predict(X_val)\n",
    "print('Val accuracy is {}%'.format(accuracy_score(y_val, y_pred) * 100))"
   ]
  },
  {
   "cell_type": "code",
   "execution_count": 16,
   "id": "9177206e",
   "metadata": {},
   "outputs": [
    {
     "name": "stdout",
     "output_type": "stream",
     "text": [
      "0.5642183638575813\n"
     ]
    }
   ],
   "source": [
    "pca = PCA(n_components = 100)\n",
    "pca.fit_transform(X_train)\n",
    "#print(pca.explained_variance_ratio_)\n",
    "print(sum(pca.explained_variance_ratio_))"
   ]
  },
  {
   "cell_type": "code",
   "execution_count": 15,
   "id": "ff60c89f",
   "metadata": {},
   "outputs": [
    {
     "name": "stdout",
     "output_type": "stream",
     "text": [
      "0.7923033966858707\n"
     ]
    }
   ],
   "source": [
    "pca = PCA(n_components = 500)\n",
    "pca.fit_transform(X_train)\n",
    "#print(pca.explained_variance_ratio_)\n",
    "print(sum(pca.explained_variance_ratio_))"
   ]
  },
  {
   "cell_type": "code",
   "execution_count": 13,
   "id": "e92bfe83",
   "metadata": {},
   "outputs": [
    {
     "name": "stdout",
     "output_type": "stream",
     "text": [
      "0.8885142282592676\n"
     ]
    }
   ],
   "source": [
    "pca = PCA(n_components = 1000)\n",
    "pca.fit_transform(X_train)\n",
    "#print(pca.explained_variance_ratio_)\n",
    "print(sum(pca.explained_variance_ratio_))"
   ]
  },
  {
   "cell_type": "code",
   "execution_count": 21,
   "id": "1dbf7d7c",
   "metadata": {},
   "outputs": [
    {
     "name": "stdout",
     "output_type": "stream",
     "text": [
      "0.39814622637343294\n"
     ]
    },
    {
     "data": {
      "text/plain": [
       "array([[-47.82467916,  -4.67290957,  33.03229757, ...,  -6.72538231,\n",
       "         -3.84473358,  -3.52569046],\n",
       "       [-16.27578754,  17.21566356, -20.70985669, ...,  -1.23718781,\n",
       "          6.68277659,   3.55511543],\n",
       "       [ -6.48790473, -55.61872295, -23.98263123, ...,  17.29701346,\n",
       "         -8.15962085,   6.97500766],\n",
       "       ...,\n",
       "       [-13.51795499, -17.9046691 , -45.50962358, ...,   5.66592334,\n",
       "         -1.89077882,  -6.4601047 ],\n",
       "       [-47.9228473 ,  29.58691093,   9.02833358, ...,  14.74913281,\n",
       "         -7.79720576,   1.23879321],\n",
       "       [-52.99379612,  -8.60736157,  25.69547189, ...,  11.24193596,\n",
       "         -1.2216681 ,   1.347003  ]])"
      ]
     },
     "execution_count": 21,
     "metadata": {},
     "output_type": "execute_result"
    }
   ],
   "source": [
    "pca = PCA(n_components = 15)\n",
    "pca.fit_transform(X_train)\n",
    "#print(pca.explained_variance_ratio_)\n",
    "print(sum(pca.explained_variance_ratio_))\n",
    "pca.transform(X_val)"
   ]
  },
  {
   "cell_type": "code",
   "execution_count": 22,
   "id": "2dcfdada",
   "metadata": {},
   "outputs": [
    {
     "name": "stdout",
     "output_type": "stream",
     "text": [
      "PCA: Logistic regression + l2 regularization, C = .01, 15 components\n",
      "Test accuracy is 100.0%\n",
      "Val accuracy is 90.0%\n"
     ]
    }
   ],
   "source": [
    "logreg = LogisticRegression(penalty='l2', C = 0.01, multi_class = 'multinomial', max_iter = 700)\n",
    "logreg.fit(X_train, y_train)\n",
    "print(\"PCA: Logistic regression + l2 regularization, C = .01, 15 components\")\n",
    "y_pred = logreg.predict(X_train)\n",
    "print('Test accuracy is {}%'.format(accuracy_score(y_train, y_pred) * 100))\n",
    "y_pred = logreg.predict(X_val)\n",
    "print('Val accuracy is {}%'.format(accuracy_score(y_val, y_pred) * 100))"
   ]
  },
  {
   "cell_type": "code",
   "execution_count": 31,
   "id": "b56a0a64",
   "metadata": {},
   "outputs": [
    {
     "name": "stdout",
     "output_type": "stream",
     "text": [
      "[LibSVM]PCA: SVM + l2 regularization, C = 10, 15 components\n",
      "Test accuracy is 100.0%\n",
      "Val accuracy is 90.0%\n"
     ]
    }
   ],
   "source": [
    "svc = SVC(C = 10, kernel=\"rbf\", verbose=10)\n",
    "svc.fit(X_train,y_train)\n",
    "print(\"PCA: SVM + l2 regularization, C = 10, 15 components\")\n",
    "y_pred = logreg.predict(X_train)\n",
    "print('Test accuracy is {}%'.format(accuracy_score(y_train, y_pred) * 100))\n",
    "y_pred = logreg.predict(X_val)\n",
    "print('Val accuracy is {}%'.format(accuracy_score(y_val, y_pred) * 100))"
   ]
  },
  {
   "cell_type": "code",
   "execution_count": 10,
   "id": "ba47cef9",
   "metadata": {},
   "outputs": [
    {
     "name": "stdout",
     "output_type": "stream",
     "text": [
      "Logistic regression + l2 regularization, C = .01\n"
     ]
    }
   ],
   "source": [
    "logreg = LogisticRegression(penalty='l2', C = 0.01, multi_class = 'multinomial', max_iter = 1000)\n",
    "logreg.fit(X_train, y_train)\n",
    "print(\"Logistic regression + l2 regularization, C = .01\")\n",
    "#print(logreg.intercept_)\n",
    "#print(logreg.coef_)"
   ]
  },
  {
   "cell_type": "code",
   "execution_count": 15,
   "id": "4f15cedc",
   "metadata": {},
   "outputs": [
    {
     "name": "stdout",
     "output_type": "stream",
     "text": [
      "Test accuracy is 100.0%\n",
      "Val accuracy is 90.625%\n"
     ]
    }
   ],
   "source": [
    "y_pred = logreg.predict(X_train)\n",
    "print('Test accuracy is {}%'.format(accuracy_score(y_train, y_pred) * 100))\n",
    "y_pred = logreg.predict(X_val)\n",
    "print('Val accuracy is {}%'.format(accuracy_score(y_val, y_pred) * 100))"
   ]
  },
  {
   "cell_type": "code",
   "execution_count": 16,
   "id": "eec1a1a3",
   "metadata": {},
   "outputs": [
    {
     "name": "stdout",
     "output_type": "stream",
     "text": [
      "Logistic regression + l2 regularization, C = .1\n"
     ]
    }
   ],
   "source": [
    "logreg = LogisticRegression(penalty='l2', C = 0.1, multi_class = 'multinomial', max_iter = 1500)\n",
    "logreg.fit(X_train, y_train)\n",
    "print(\"Logistic regression + l2 regularization, C = .1\")"
   ]
  },
  {
   "cell_type": "code",
   "execution_count": 17,
   "id": "6c0a8d04",
   "metadata": {},
   "outputs": [
    {
     "name": "stdout",
     "output_type": "stream",
     "text": [
      "Test accuracy is 100.0%\n",
      "Val accuracy is 90.625%\n"
     ]
    }
   ],
   "source": [
    "y_pred = logreg.predict(X_train)\n",
    "print('Test accuracy is {}%'.format(accuracy_score(y_train, y_pred) * 100))\n",
    "y_pred = logreg.predict(X_val)\n",
    "print('Val accuracy is {}%'.format(accuracy_score(y_val, y_pred) * 100))"
   ]
  },
  {
   "cell_type": "code",
   "execution_count": 30,
   "id": "0e949d74",
   "metadata": {},
   "outputs": [
    {
     "name": "stdout",
     "output_type": "stream",
     "text": [
      "Logistic regression + l2 regularization, C = 1\n",
      "Test accuracy is 100.0%\n",
      "Val accuracy is 90.625%\n"
     ]
    }
   ],
   "source": [
    "logreg = LogisticRegression(penalty='l2', C = 1, multi_class = 'multinomial', max_iter = 1600)\n",
    "logreg.fit(X_train, y_train)\n",
    "print(\"Logistic regression + l2 regularization, C = 1\")\n",
    "y_pred = logreg.predict(X_train)\n",
    "print('Test accuracy is {}%'.format(accuracy_score(y_train, y_pred) * 100))\n",
    "y_pred = logreg.predict(X_val)\n",
    "print('Val accuracy is {}%'.format(accuracy_score(y_val, y_pred) * 100))"
   ]
  },
  {
   "cell_type": "code",
   "execution_count": 32,
   "id": "1c45ef96",
   "metadata": {},
   "outputs": [
    {
     "name": "stdout",
     "output_type": "stream",
     "text": [
      "Logistic regression + l2 regularization, C = 10\n",
      "Test accuracy is 100.0%\n",
      "Val accuracy is 90.0%\n"
     ]
    }
   ],
   "source": [
    "logreg = LogisticRegression(penalty='l2', C = 10, multi_class = 'multinomial', max_iter = 1800)\n",
    "logreg.fit(X_train, y_train)\n",
    "print(\"Logistic regression + l2 regularization, C = 10\")\n",
    "y_pred = logreg.predict(X_train)\n",
    "print('Test accuracy is {}%'.format(accuracy_score(y_train, y_pred) * 100))\n",
    "y_pred = logreg.predict(X_val)\n",
    "print('Val accuracy is {}%'.format(accuracy_score(y_val, y_pred) * 100))"
   ]
  },
  {
   "cell_type": "code",
   "execution_count": 34,
   "id": "545fe113",
   "metadata": {},
   "outputs": [
    {
     "name": "stdout",
     "output_type": "stream",
     "text": [
      "Logistic regression + l2 regularization, C = 20\n",
      "Test accuracy is 100.0%\n",
      "Val accuracy is 89.6875%\n"
     ]
    }
   ],
   "source": [
    "logreg = LogisticRegression(penalty='l2', C = 20, multi_class = 'multinomial', max_iter = 2000)\n",
    "logreg.fit(X_train, y_train)\n",
    "print(\"Logistic regression + l2 regularization, C = 20\")\n",
    "y_pred = logreg.predict(X_train)\n",
    "print('Test accuracy is {}%'.format(accuracy_score(y_train, y_pred) * 100))\n",
    "y_pred = logreg.predict(X_val)\n",
    "print('Val accuracy is {}%'.format(accuracy_score(y_val, y_pred) * 100))"
   ]
  },
  {
   "cell_type": "code",
   "execution_count": 27,
   "id": "6a2c4257",
   "metadata": {},
   "outputs": [
    {
     "name": "stdout",
     "output_type": "stream",
     "text": [
      "Logistic regression + no regularization\n",
      "Test accuracy is 100.0%\n",
      "Val accuracy is 84.0625%\n"
     ]
    }
   ],
   "source": [
    "logreg = LogisticRegression(penalty='none', multi_class = 'multinomial', max_iter = 1000)\n",
    "logreg.fit(X_train, y_train)\n",
    "print(\"Logistic regression + no regularization\")\n",
    "y_pred = logreg.predict(X_train)\n",
    "print('Test accuracy is {}%'.format(accuracy_score(y_train, y_pred) * 100))\n",
    "y_pred = logreg.predict(X_val)\n",
    "print('Val accuracy is {}%'.format(accuracy_score(y_val, y_pred) * 100))"
   ]
  },
  {
   "cell_type": "code",
   "execution_count": 10,
   "id": "bb2c1599",
   "metadata": {},
   "outputs": [
    {
     "name": "stdout",
     "output_type": "stream",
     "text": [
      "Logistic regression + l1 regularization, C = 0.01\n",
      "Test accuracy is 75.42763157894737%\n",
      "Val accuracy is 72.5%\n"
     ]
    }
   ],
   "source": [
    "logreg = LogisticRegression(penalty='l1', C = 0.01, solver = 'liblinear', max_iter = 1000)\n",
    "logreg.fit(X_train, y_train)\n",
    "print(\"Logistic regression + l1 regularization, C = 0.01\")\n",
    "y_pred = logreg.predict(X_train)\n",
    "print('Test accuracy is {}%'.format(accuracy_score(y_train, y_pred) * 100))\n",
    "y_pred = logreg.predict(X_val)\n",
    "print('Val accuracy is {}%'.format(accuracy_score(y_val, y_pred) * 100))"
   ]
  },
  {
   "cell_type": "code",
   "execution_count": 24,
   "id": "464d8218",
   "metadata": {},
   "outputs": [
    {
     "name": "stdout",
     "output_type": "stream",
     "text": [
      "Logistic regression + l1 regularization, C = 0.1\n",
      "Test accuracy is 99.60526315789474%\n",
      "Val accuracy is 86.5625%\n"
     ]
    }
   ],
   "source": [
    "logreg = LogisticRegression(penalty='l1', C = 0.1, solver = 'liblinear', max_iter = 1300)\n",
    "logreg.fit(X_train, y_train)\n",
    "print(\"Logistic regression + l1 regularization, C = 0.1\")\n",
    "y_pred = logreg.predict(X_train)\n",
    "print('Test accuracy is {}%'.format(accuracy_score(y_train, y_pred) * 100))\n",
    "y_pred = logreg.predict(X_val)\n",
    "print('Val accuracy is {}%'.format(accuracy_score(y_val, y_pred) * 100))"
   ]
  },
  {
   "cell_type": "code",
   "execution_count": 11,
   "id": "757f5f6e",
   "metadata": {},
   "outputs": [
    {
     "name": "stdout",
     "output_type": "stream",
     "text": [
      "Logistic regression + l1 regularization, C = 1\n",
      "Test accuracy is 100.0%\n",
      "Val accuracy is 89.6875%\n"
     ]
    }
   ],
   "source": [
    "logreg = LogisticRegression(penalty='l1', C = 1, solver = 'liblinear', max_iter = 1000)\n",
    "logreg.fit(X_train, y_train)\n",
    "print(\"Logistic regression + l1 regularization, C = 1\")\n",
    "y_pred = logreg.predict(X_train)\n",
    "print('Test accuracy is {}%'.format(accuracy_score(y_train, y_pred) * 100))\n",
    "y_pred = logreg.predict(X_val)\n",
    "print('Val accuracy is {}%'.format(accuracy_score(y_val, y_pred) * 100))"
   ]
  },
  {
   "cell_type": "code",
   "execution_count": 13,
   "id": "d162ce58",
   "metadata": {},
   "outputs": [
    {
     "name": "stdout",
     "output_type": "stream",
     "text": [
      "Logistic regression + l1 regularization, C = 10\n",
      "Test accuracy is 100.0%\n",
      "Val accuracy is 88.4375%\n"
     ]
    }
   ],
   "source": [
    "logreg = LogisticRegression(penalty='l1', C = 10, solver = 'liblinear', max_iter = 1000)\n",
    "logreg.fit(X_train, y_train)\n",
    "print(\"Logistic regression + l1 regularization, C = 10\")\n",
    "y_pred = logreg.predict(X_train)\n",
    "print('Test accuracy is {}%'.format(accuracy_score(y_train, y_pred) * 100))\n",
    "y_pred = logreg.predict(X_val)\n",
    "print('Val accuracy is {}%'.format(accuracy_score(y_val, y_pred) * 100))"
   ]
  },
  {
   "cell_type": "code",
   "execution_count": 14,
   "id": "7ece0d1f",
   "metadata": {},
   "outputs": [
    {
     "name": "stdout",
     "output_type": "stream",
     "text": [
      "Logistic regression + l1 regularization, C = 20\n",
      "Test accuracy is 100.0%\n",
      "Val accuracy is 88.75%\n"
     ]
    }
   ],
   "source": [
    "logreg = LogisticRegression(penalty='l1', C = 20, solver = 'liblinear', max_iter = 1000)\n",
    "logreg.fit(X_train, y_train)\n",
    "print(\"Logistic regression + l1 regularization, C = 20\")\n",
    "y_pred = logreg.predict(X_train)\n",
    "print('Test accuracy is {}%'.format(accuracy_score(y_train, y_pred) * 100))\n",
    "y_pred = logreg.predict(X_val)\n",
    "print('Val accuracy is {}%'.format(accuracy_score(y_val, y_pred) * 100))"
   ]
  },
  {
   "cell_type": "code",
   "execution_count": 12,
   "id": "c49b2a16",
   "metadata": {},
   "outputs": [
    {
     "name": "stdout",
     "output_type": "stream",
     "text": [
      "hello\n"
     ]
    }
   ],
   "source": [
    "print(\"hello\")"
   ]
  },
  {
   "cell_type": "code",
   "execution_count": 11,
   "id": "aed4b9a5",
   "metadata": {},
   "outputs": [
    {
     "name": "stdout",
     "output_type": "stream",
     "text": [
      "Neural Network[10] + l2 regularization, alpha = 10\n",
      "Test accuracy is 98.83223684210526%\n",
      "Val accuracy is 88.75%\n"
     ]
    }
   ],
   "source": [
    "clf = MLPClassifier(alpha=10, hidden_layer_sizes=(10), max_iter=1500)\n",
    "clf.fit(X_train, y_train)\n",
    "print(\"Neural Network[10] + l2 regularization, alpha = 10\")\n",
    "y_pred = clf.predict(X_train)\n",
    "print('Test accuracy is {}%'.format(accuracy_score(y_train, y_pred) * 100))\n",
    "y_pred = clf.predict(X_val)\n",
    "print('Val accuracy is {}%'.format(accuracy_score(y_val, y_pred) * 100))"
   ]
  },
  {
   "cell_type": "code",
   "execution_count": 12,
   "id": "dde6697c",
   "metadata": {},
   "outputs": [
    {
     "name": "stdout",
     "output_type": "stream",
     "text": [
      "Neural Network[10,20] + l2 regularization, alpha = 10\n",
      "Test accuracy is 97.26973684210526%\n",
      "Val accuracy is 90.0%\n"
     ]
    }
   ],
   "source": [
    "clf = MLPClassifier(alpha=10, hidden_layer_sizes=(10, 20), max_iter=1500)\n",
    "clf.fit(X_train, y_train)\n",
    "print(\"Neural Network[10,20] + l2 regularization, alpha = 10\")\n",
    "y_pred = clf.predict(X_train)\n",
    "print('Test accuracy is {}%'.format(accuracy_score(y_train, y_pred) * 100))\n",
    "y_pred = clf.predict(X_val)\n",
    "print('Val accuracy is {}%'.format(accuracy_score(y_val, y_pred) * 100))"
   ]
  },
  {
   "cell_type": "code",
   "execution_count": 10,
   "id": "4f5927ca",
   "metadata": {
    "scrolled": true
   },
   "outputs": [
    {
     "name": "stdout",
     "output_type": "stream",
     "text": [
      "Neural Network[10,20,30] + l2 regularization, alpha = 10\n",
      "Test accuracy is 98.07565789473685%\n",
      "Val accuracy is 89.6875%\n"
     ]
    }
   ],
   "source": [
    "clf = MLPClassifier(alpha=10, hidden_layer_sizes=(10, 20, 30), max_iter=1500)\n",
    "clf.fit(X_train, y_train)\n",
    "print(\"Neural Network[10,20,30] + l2 regularization, alpha = 10\")\n",
    "y_pred = clf.predict(X_train)\n",
    "print('Test accuracy is {}%'.format(accuracy_score(y_train, y_pred) * 100))\n",
    "y_pred = clf.predict(X_val)\n",
    "print('Val accuracy is {}%'.format(accuracy_score(y_val, y_pred) * 100))"
   ]
  },
  {
   "cell_type": "code",
   "execution_count": 21,
   "id": "8c06dd58",
   "metadata": {},
   "outputs": [
    {
     "name": "stdout",
     "output_type": "stream",
     "text": [
      "Neural Network[10] + l2 regularization, alpha = 100\n",
      "Test accuracy is 79.27631578947368%\n",
      "Val accuracy is 75.625%\n"
     ]
    }
   ],
   "source": [
    "clf = MLPClassifier(alpha=100, hidden_layer_sizes=(10), max_iter=1500)\n",
    "clf.fit(X_train, y_train)\n",
    "print(\"Neural Network[10] + l2 regularization, alpha = 100\")\n",
    "y_pred = clf.predict(X_train)\n",
    "print('Test accuracy is {}%'.format(accuracy_score(y_train, y_pred) * 100))\n",
    "y_pred = clf.predict(X_val)\n",
    "print('Val accuracy is {}%'.format(accuracy_score(y_val, y_pred) * 100))"
   ]
  },
  {
   "cell_type": "code",
   "execution_count": 25,
   "id": "81f24efe",
   "metadata": {},
   "outputs": [
    {
     "name": "stdout",
     "output_type": "stream",
     "text": [
      "Neural Network[10,20] + l2 regularization, alpha = 100\n",
      "Test accuracy is 67.26973684210526%\n",
      "Val accuracy is 64.6875%\n"
     ]
    }
   ],
   "source": [
    "clf = MLPClassifier(alpha=100, hidden_layer_sizes=(10, 20), max_iter=1500)\n",
    "clf.fit(X_train, y_train)\n",
    "print(\"Neural Network[10,20] + l2 regularization, alpha = 100\")\n",
    "y_pred = clf.predict(X_train)\n",
    "print('Test accuracy is {}%'.format(accuracy_score(y_train, y_pred) * 100))\n",
    "y_pred = clf.predict(X_val)\n",
    "print('Val accuracy is {}%'.format(accuracy_score(y_val, y_pred) * 100))"
   ]
  },
  {
   "cell_type": "code",
   "execution_count": 26,
   "id": "fcd03625",
   "metadata": {},
   "outputs": [
    {
     "name": "stdout",
     "output_type": "stream",
     "text": [
      "Neural Network[10,20,30] + l2 regularization, alpha = 100\n",
      "Test accuracy is 49.868421052631575%\n",
      "Val accuracy is 52.5%\n"
     ]
    }
   ],
   "source": [
    "clf = MLPClassifier(alpha=100, hidden_layer_sizes=(10, 20, 30), max_iter=1500)\n",
    "clf.fit(X_train, y_train)\n",
    "print(\"Neural Network[10,20,30] + l2 regularization, alpha = 100\")\n",
    "y_pred = clf.predict(X_train)\n",
    "print('Test accuracy is {}%'.format(accuracy_score(y_train, y_pred) * 100))\n",
    "y_pred = clf.predict(X_val)\n",
    "print('Val accuracy is {}%'.format(accuracy_score(y_val, y_pred) * 100))"
   ]
  },
  {
   "cell_type": "code",
   "execution_count": null,
   "id": "757077a1",
   "metadata": {},
   "outputs": [],
   "source": [
    "#Neural network with 10 hidden neurons\n",
    "clf = MLPClassifier(hidden_layer_sizes = (10,), random_state=1, max_iter = 1000)\n",
    "clf.fit(X_train, y_train)\n",
    "print(\"Neural Network[10], alpha = 0.0001\")\n",
    "print(clf.intercepts_)\n",
    "print(clf.coefs_)\n",
    "yhat_tr = clf.predict(X_train)\n",
    "acc = accuracy_score(y_train, yhat_tr)\n",
    "print('Training accuracy: {}%'.format(acc * 100))\n",
    "yhat_val = clf.predict(X_val)\n",
    "acc = accuracy_score(y_val, yhat_val)\n",
    "print('Testing accuracy: {}%'.format(acc * 100))"
   ]
  },
  {
   "cell_type": "code",
   "execution_count": null,
   "id": "1723491b",
   "metadata": {},
   "outputs": [],
   "source": [
    "#Neural network with 10 hidden neurons + alpha = 0.01\n",
    "clf = MLPClassifier(alpha = 0.01, hidden_layer_sizes = (10,), random_state=1, max_iter = 1000)\n",
    "clf.fit(X_train, y_train)\n",
    "print(\"Neural Network[10], alpha = 0.01\")\n",
    "print(clf.intercepts_)\n",
    "print(clf.coefs_)\n",
    "yhat_tr = clf.predict(X_train)\n",
    "acc = accuracy_score(y_train, yhat_tr)\n",
    "print('Training accuracy: {}%'.format(acc * 100))\n",
    "yhat_val = clf.predict(X_val)\n",
    "acc = accuracy_score(y_val, yhat_val)\n",
    "print('Testing accuracy: {}%'.format(acc * 100))"
   ]
  },
  {
   "cell_type": "code",
   "execution_count": null,
   "id": "dc9eb80d",
   "metadata": {},
   "outputs": [],
   "source": [
    "#Neural network with 10 hidden neurons + alpha = 0.1\n",
    "clf = MLPClassifier(alpha = 0.1, hidden_layer_sizes = (10,), random_state=1, max_iter = 1000)\n",
    "clf.fit(X_train, y_train)\n",
    "print(\"Neural Network[10], alpha = 0.1\")\n",
    "print(clf.intercepts_)\n",
    "print(clf.coefs_)\n",
    "yhat_tr = clf.predict(X_train)\n",
    "acc = accuracy_score(y_train, yhat_tr)\n",
    "print('Training accuracy: {}%'.format(acc * 100))\n",
    "yhat_val = clf.predict(X_val)\n",
    "acc = accuracy_score(y_val, yhat_val)\n",
    "print('Testing accuracy: {}%'.format(acc * 100))"
   ]
  },
  {
   "cell_type": "code",
   "execution_count": null,
   "id": "2682da6b",
   "metadata": {},
   "outputs": [],
   "source": [
    "#Neural network with 10 hidden neurons + alpha = 1\n",
    "clf = MLPClassifier(alpha = 1, hidden_layer_sizes = (10,), random_state=1, max_iter = 1000)\n",
    "clf.fit(X_train, y_train)\n",
    "print(\"Neural Network[10], alpha = 1\")\n",
    "print(clf.intercepts_)\n",
    "print(clf.coefs_)\n",
    "yhat_tr = clf.predict(X_train)\n",
    "acc = accuracy_score(y_train, yhat_tr)\n",
    "print('Training accuracy: {}%'.format(acc * 100))\n",
    "yhat_val = clf.predict(X_val)\n",
    "acc = accuracy_score(y_val, yhat_val)\n",
    "print('Testing accuracy: {}%'.format(acc * 100))"
   ]
  },
  {
   "cell_type": "code",
   "execution_count": null,
   "id": "39b13ef2",
   "metadata": {},
   "outputs": [],
   "source": [
    "#Neural network with default alpha = 0.0001\n",
    "clf = MLPClassifier(random_state=1, max_iter = 1000)\n",
    "clf.fit(X_train, y_train)\n",
    "print(\"Neural Network[100], alpha = 0.0001\")\n",
    "print(clf.intercepts_)\n",
    "print(clf.coefs_)\n",
    "yhat_tr = clf.predict(X_train)\n",
    "acc = accuracy_score(y_train, yhat_tr)\n",
    "print('Training accuracy: {}%'.format(acc * 100))\n",
    "yhat_val = clf.predict(X_val)\n",
    "acc = accuracy_score(y_val, yhat_val)\n",
    "print('Testing accuracy: {}%'.format(acc * 100))"
   ]
  },
  {
   "cell_type": "code",
   "execution_count": null,
   "id": "2cdb2dca",
   "metadata": {},
   "outputs": [],
   "source": [
    "#Neural network + L2 with alpha = 0.01\n",
    "clf = MLPClassifier(alpha = 0.01, random_state=1, max_iter = 1000)\n",
    "clf.fit(X_train, y_train)\n",
    "print(\"Neural Network[100], alpha = 0.01\")\n",
    "print(clf.intercepts_)\n",
    "print(clf.coefs_)\n",
    "yhat_tr = clf.predict(X_train)\n",
    "acc = accuracy_score(y_train, yhat_tr)\n",
    "print('Training accuracy: {}%'.format(acc * 100))\n",
    "yhat_val = clf.predict(X_val)\n",
    "acc = accuracy_score(y_val, yhat_val)\n",
    "print('Testing accuracy: {}%'.format(acc * 100))"
   ]
  },
  {
   "cell_type": "code",
   "execution_count": null,
   "id": "b564835f",
   "metadata": {},
   "outputs": [],
   "source": [
    "#Neural network with [10, 20] hidden neurons\n",
    "clf = MLPClassifier(hidden_layer_sizes = (10, 20,), random_state=1, max_iter = 1000)\n",
    "clf.fit(X_train, y_train)\n",
    "print(\"Neural Network[10, 20], alpha = 0.0001\")\n",
    "print(clf.intercepts_)\n",
    "print(clf.coefs_)\n",
    "yhat_tr = clf.predict(X_train)\n",
    "acc = accuracy_score(y_train, yhat_tr)\n",
    "print('Training accuracy: {}%'.format(acc * 100))\n",
    "yhat_val = clf.predict(X_val)\n",
    "acc = accuracy_score(y_val, yhat_val)\n",
    "print('Testing accuracy: {}%'.format(acc * 100))"
   ]
  },
  {
   "cell_type": "code",
   "execution_count": null,
   "id": "fa5438f6",
   "metadata": {},
   "outputs": [],
   "source": [
    "#Neural network with [10, 20] hidden neurons + alpha = 0.01\n",
    "clf = MLPClassifier(alpha = 0.01, hidden_layer_sizes = (10, 20,), random_state=1, max_iter = 1000)\n",
    "clf.fit(X_train, y_train)\n",
    "print(\"Neural Network[10, 20], alpha = 0.01\")\n",
    "print(clf.intercepts_)\n",
    "print(clf.coefs_)\n",
    "yhat_tr = clf.predict(X_train)\n",
    "acc = accuracy_score(y_train, yhat_tr)\n",
    "print('Training accuracy: {}%'.format(acc * 100))\n",
    "yhat_val = clf.predict(X_val)\n",
    "acc = accuracy_score(y_val, yhat_val)\n",
    "print('Testing accuracy: {}%'.format(acc * 100))"
   ]
  },
  {
   "cell_type": "code",
   "execution_count": null,
   "id": "2eb2ac4c",
   "metadata": {},
   "outputs": [],
   "source": [
    "#Neural network with [10, 20] hidden neurons + alpha = 0.1\n",
    "clf = MLPClassifier(alpha = 0.1, hidden_layer_sizes = (10, 20,), random_state=1, max_iter = 1000)\n",
    "clf.fit(X_train, y_train)\n",
    "print(\"Neural Network[10, 20], alpha = 0.1\")\n",
    "print(clf.intercepts_)\n",
    "print(clf.coefs_)\n",
    "yhat_tr = clf.predict(X_train)\n",
    "acc = accuracy_score(y_train, yhat_tr)\n",
    "print('Training accuracy: {}%'.format(acc * 100))\n",
    "yhat_val = clf.predict(X_val)\n",
    "acc = accuracy_score(y_val, yhat_val)\n",
    "print('Testing accuracy: {}%'.format(acc * 100))"
   ]
  },
  {
   "cell_type": "code",
   "execution_count": null,
   "id": "67109c6d",
   "metadata": {},
   "outputs": [],
   "source": [
    "#Neural network with [10, 20] hidden neurons + alpha = 1\n",
    "clf = MLPClassifier(alpha = 1, hidden_layer_sizes = (10, 20,), random_state=1, max_iter = 1000)\n",
    "clf.fit(X_train, y_train)\n",
    "print(\"Neural Network[10, 20], alpha = 1\")\n",
    "print(clf.intercepts_)\n",
    "print(clf.coefs_)\n",
    "yhat_tr = clf.predict(X_train)\n",
    "acc = accuracy_score(y_train, yhat_tr)\n",
    "print('Training accuracy: {}%'.format(acc * 100))\n",
    "yhat_val = clf.predict(X_val)\n",
    "acc = accuracy_score(y_val, yhat_val)\n",
    "print('Testing accuracy: {}%'.format(acc * 100))"
   ]
  },
  {
   "cell_type": "code",
   "execution_count": null,
   "id": "f4544651",
   "metadata": {},
   "outputs": [],
   "source": [
    "#Neural network + L2 with alpha = 0.1\n",
    "clf = MLPClassifier(alpha = 0.1, random_state=1, max_iter = 1000)\n",
    "clf.fit(X_train, y_train)\n",
    "print(\"Neural Network[100], alpha = 0.1\")\n",
    "print(clf.intercepts_)\n",
    "print(clf.coefs_)\n",
    "yhat_tr = clf.predict(X_train)\n",
    "acc = accuracy_score(y_train, yhat_tr)\n",
    "print('Training accuracy: {}%'.format(acc * 100))\n",
    "yhat_val = clf.predict(X_val)\n",
    "acc = accuracy_score(y_val, yhat_val)\n",
    "print('Testing accuracy: {}%'.format(acc * 100))"
   ]
  },
  {
   "cell_type": "code",
   "execution_count": null,
   "id": "9703fc29",
   "metadata": {},
   "outputs": [],
   "source": [
    "#Neural network + L2 with alpha = 1\n",
    "clf = MLPClassifier(alpha = 1, random_state=1, max_iter = 1000)\n",
    "clf.fit(X_train, y_train)\n",
    "print(\"Neural Network[100], alpha = 1\")\n",
    "print(clf.intercepts_)\n",
    "print(clf.coefs_)\n",
    "yhat_tr = clf.predict(X_train)\n",
    "acc = accuracy_score(y_train, yhat_tr)\n",
    "print('Training accuracy: {}%'.format(acc * 100))\n",
    "yhat_val = clf.predict(X_val)\n",
    "acc = accuracy_score(y_val, yhat_val)\n",
    "print('Testing accuracy: {}%'.format(acc * 100))"
   ]
  },
  {
   "cell_type": "code",
   "execution_count": null,
   "id": "12790be9",
   "metadata": {},
   "outputs": [],
   "source": [
    "#Neural network + L2 with alpha = 10\n",
    "clf = MLPClassifier(alpha = 10, random_state=1, max_iter = 1000)\n",
    "clf.fit(X_train, y_train)\n",
    "print(\"Neural Network[100], alpha = 10\")\n",
    "print(clf.intercepts_)\n",
    "print(clf.coefs_)\n",
    "yhat_tr = clf.predict(X_train)\n",
    "acc = accuracy_score(y_train, yhat_tr)\n",
    "print('Training accuracy: {}%'.format(acc * 100))\n",
    "yhat_val = clf.predict(X_val)\n",
    "acc = accuracy_score(y_val, yhat_val)\n",
    "print('Testing accuracy: {}%'.format(acc * 100))"
   ]
  },
  {
   "cell_type": "code",
   "execution_count": null,
   "id": "16f22719",
   "metadata": {},
   "outputs": [],
   "source": [
    "#Neural network + L2 with alpha = 100\n",
    "clf = MLPClassifier(alpha = 100, random_state=1, max_iter = 1000)\n",
    "clf.fit(X_train, y_train)\n",
    "print(\"Neural Network[100], alpha = 100\")\n",
    "print(clf.intercepts_)\n",
    "print(clf.coefs_)\n",
    "yhat_tr = clf.predict(X_train)\n",
    "acc = accuracy_score(y_train, yhat_tr)\n",
    "print('Training accuracy: {}%'.format(acc * 100))\n",
    "yhat_val = clf.predict(X_val)\n",
    "acc = accuracy_score(y_val, yhat_val)\n",
    "print('Testing accuracy: {}%'.format(acc * 100))"
   ]
  },
  {
   "cell_type": "code",
   "execution_count": null,
   "id": "41bf5341",
   "metadata": {},
   "outputs": [],
   "source": [
    "#Neural network with [10, 20, 30] hidden neurons\n",
    "clf = MLPClassifier(hidden_layer_sizes = (10, 20, 30,), random_state=1, max_iter = 1000)\n",
    "clf.fit(X_train, y_train)\n",
    "print(\"Neural Network[10, 20, 30], alpha = 0.0001\")\n",
    "print(clf.intercepts_)\n",
    "print(clf.coefs_)\n",
    "yhat_tr = clf.predict(X_train)\n",
    "acc = accuracy_score(y_train, yhat_tr)\n",
    "print('Training accuracy: {}%'.format(acc * 100))\n",
    "yhat_val = clf.predict(X_val)\n",
    "acc = accuracy_score(y_val, yhat_val)\n",
    "print('Testing accuracy: {}%'.format(acc * 100))"
   ]
  },
  {
   "cell_type": "code",
   "execution_count": null,
   "id": "34904366",
   "metadata": {},
   "outputs": [],
   "source": [
    "#Neural network with [10, 20, 30] hidden neurons + alpha = 0.01\n",
    "clf = MLPClassifier(alpha = 0.01, hidden_layer_sizes = (10, 20, 30,), random_state=1, max_iter = 1000)\n",
    "clf.fit(X_train, y_train)\n",
    "print(\"Neural Network[10, 20, 30], alpha = 0.01\")\n",
    "print(clf.intercepts_)\n",
    "print(clf.coefs_)\n",
    "yhat_tr = clf.predict(X_train)\n",
    "acc = accuracy_score(y_train, yhat_tr)\n",
    "print('Training accuracy: {}%'.format(acc * 100))\n",
    "yhat_val = clf.predict(X_val)\n",
    "acc = accuracy_score(y_val, yhat_val)\n",
    "print('Testing accuracy: {}%'.format(acc * 100))"
   ]
  },
  {
   "cell_type": "code",
   "execution_count": null,
   "id": "39ba9377",
   "metadata": {},
   "outputs": [],
   "source": [
    "#Neural network with [10, 20, 30] hidden neurons + alpha = 0.1\n",
    "clf = MLPClassifier(alpha = 0.1, hidden_layer_sizes = (10, 20, 30,), random_state=1, max_iter = 1000)\n",
    "clf.fit(X_train, y_train)\n",
    "print(\"Neural Network[10, 20, 30], alpha = 0.1\")\n",
    "print(clf.intercepts_)\n",
    "print(clf.coefs_)\n",
    "yhat_tr = clf.predict(X_train)\n",
    "acc = accuracy_score(y_train, yhat_tr)\n",
    "print('Training accuracy: {}%'.format(acc * 100))\n",
    "yhat_val = clf.predict(X_val)\n",
    "acc = accuracy_score(y_val, yhat_val)\n",
    "print('Testing accuracy: {}%'.format(acc * 100))"
   ]
  },
  {
   "cell_type": "code",
   "execution_count": null,
   "id": "92cf1cb9",
   "metadata": {},
   "outputs": [],
   "source": [
    "#Neural network with [10, 20, 30] hidden neurons + alpha = 1\n",
    "clf = MLPClassifier(alpha = 1, hidden_layer_sizes = (10, 20, 30,), random_state=1, max_iter = 1000)\n",
    "clf.fit(X_train, y_train)\n",
    "print(\"Neural Network[10, 20, 30], alpha = 1\")\n",
    "print(clf.intercepts_)\n",
    "print(clf.coefs_)\n",
    "yhat_tr = clf.predict(X_train)\n",
    "acc = accuracy_score(y_train, yhat_tr)\n",
    "print('Training accuracy: {}%'.format(acc * 100))\n",
    "yhat_val = clf.predict(X_val)\n",
    "acc = accuracy_score(y_val, yhat_val)\n",
    "print('Testing accuracy: {}%'.format(acc * 100))"
   ]
  },
  {
   "cell_type": "code",
   "execution_count": null,
   "id": "a7b93096",
   "metadata": {},
   "outputs": [],
   "source": [
    "#SVM + L2 with C = 0.01\n",
    "svc = svm.SVC(C = 0.01, kernel=\"linear\", verbose=10)\n",
    "svc.fit(X_train,y_train)\n",
    "yhat_tr = svc.predict(X_train)\n",
    "acc = np.mean(yhat_tr == y_train)\n",
    "print('Training Accuracy: {}%'.format(acc * 100))\n",
    "yhat_val = svc.predict(X_val)\n",
    "acc = np.mean(yhat_val == y_val)\n",
    "print('Testing Accuracy: {}%'.format(acc * 100))"
   ]
  },
  {
   "cell_type": "code",
   "execution_count": null,
   "id": "9eca6566",
   "metadata": {},
   "outputs": [],
   "source": [
    "#SVM + L2 with C = 0.1\n",
    "svc = svm.SVC(C = 0.1, kernel=\"linear\", verbose=10)\n",
    "svc.fit(X_train,y_train)\n",
    "yhat_tr = svc.predict(X_train)\n",
    "acc = np.mean(yhat_tr == y_train)\n",
    "print('Training Accuracy: {}%'.format(acc * 100))\n",
    "yhat_val = svc.predict(X_val)\n",
    "acc = np.mean(yhat_val == y_val)\n",
    "print('Testing Accuracy: {}%'.format(acc * 100))"
   ]
  },
  {
   "cell_type": "code",
   "execution_count": null,
   "id": "f1661bc6",
   "metadata": {},
   "outputs": [],
   "source": [
    "#SVM + L2 with C = 1\n",
    "svc = svm.SVC(C = 1, kernel=\"linear\", verbose=10)\n",
    "svc.fit(X_train,y_train)\n",
    "yhat_tr = svc.predict(X_train)\n",
    "acc = np.mean(yhat_tr == y_train)\n",
    "print('Training Accuracy: {}%'.format(acc * 100))\n",
    "yhat_val = svc.predict(X_val)\n",
    "acc = np.mean(yhat_val == y_val)\n",
    "print('Testing Accuracy: {}%'.format(acc * 100))"
   ]
  },
  {
   "cell_type": "code",
   "execution_count": null,
   "id": "fdcb8f06",
   "metadata": {},
   "outputs": [],
   "source": [
    "#SVM + L2 with C = 10\n",
    "svc = svm.SVC(C = 10, kernel=\"linear\", verbose=10)\n",
    "svc.fit(X_train,y_train)\n",
    "yhat_tr = svc.predict(X_train)\n",
    "acc = np.mean(yhat_tr == y_train)\n",
    "print('Training Accuracy = {0:f}'.format(acc))\n",
    "yhat_val = svc.predict(X_val)\n",
    "acc = np.mean(yhat_val == y_val)\n",
    "print('Testing Accuracy = {0:f}'.format(acc))"
   ]
  },
  {
   "cell_type": "code",
   "execution_count": null,
   "id": "1c2e6ff5",
   "metadata": {},
   "outputs": [],
   "source": [
    "#SVM + L2 with C = 100\n",
    "svc = svm.SVC(C = 100, kernel=\"linear\", verbose=10)\n",
    "svc.fit(X_train,y_train)\n",
    "yhat_tr = svc.predict(X_train)\n",
    "acc = np.mean(yhat_tr == y_train)\n",
    "print('Training Accuracy: {}%'.format(acc * 100))\n",
    "yhat_val = svc.predict(X_val)\n",
    "acc = np.mean(yhat_val == y_val)\n",
    "print('Testing Accuracy: {}%'.format(acc * 100))"
   ]
  },
  {
   "cell_type": "code",
   "execution_count": null,
   "id": "54610b65",
   "metadata": {},
   "outputs": [],
   "source": [
    "#SVM + Polynomial Kernel with C = 0.01\n",
    "svc = svm.SVC(C = 0.01, kernel=\"poly\", verbose=10)\n",
    "svc.fit(X_train,y_train)\n",
    "yhat_tr = svc.predict(X_train)\n",
    "acc = np.mean(yhat_tr == y_train)\n",
    "print('Training Accuracy: {}%'.format(acc * 100))\n",
    "yhat_val = svc.predict(X_val)\n",
    "acc = np.mean(yhat_val == y_val)\n",
    "print('Testing Accuracy: {}%'.format(acc * 100))"
   ]
  },
  {
   "cell_type": "code",
   "execution_count": null,
   "id": "dc973129",
   "metadata": {},
   "outputs": [],
   "source": [
    "#SVM + Polynomial Kernel with C = 0.1\n",
    "svc = svm.SVC(C = 0.1, kernel=\"poly\", verbose=10)\n",
    "svc.fit(X_train,y_train)\n",
    "yhat_tr = svc.predict(X_train)\n",
    "acc = np.mean(yhat_tr == y_train)\n",
    "print('Training Accuracy: {}%'.format(acc * 100))\n",
    "yhat_val = svc.predict(X_val)\n",
    "acc = np.mean(yhat_val == y_val)\n",
    "print('Testing Accuracy: {}%'.format(acc * 100))"
   ]
  },
  {
   "cell_type": "code",
   "execution_count": null,
   "id": "0f6f9437",
   "metadata": {},
   "outputs": [],
   "source": [
    "#SVM + Polynomial Kernel with C = 1\n",
    "svc = svm.SVC(C = 1, kernel=\"poly\", verbose=10)\n",
    "svc.fit(X_train,y_train)\n",
    "yhat_tr = svc.predict(X_train)\n",
    "acc = np.mean(yhat_tr == y_train)\n",
    "print('Training Accuracy: {}%'.format(acc * 100))\n",
    "yhat_val = svc.predict(X_val)\n",
    "acc = np.mean(yhat_val == y_val)\n",
    "print('Testing Accuracy: {}%'.format(acc * 100))"
   ]
  },
  {
   "cell_type": "code",
   "execution_count": null,
   "id": "02c1612a",
   "metadata": {},
   "outputs": [],
   "source": [
    "#SVM + Polynomial Kernel with C = 10\n",
    "svc = svm.SVC(C = 10, kernel=\"poly\", verbose=10)\n",
    "svc.fit(X_train,y_train)\n",
    "yhat_tr = svc.predict(X_train)\n",
    "acc = np.mean(yhat_tr == y_train)\n",
    "print('Training Accuracy: {}%'.format(acc * 100))\n",
    "yhat_val = svc.predict(X_val)\n",
    "acc = np.mean(yhat_val == y_val)\n",
    "print('Testing Accuracy: {}%'.format(acc * 100))"
   ]
  },
  {
   "cell_type": "code",
   "execution_count": null,
   "id": "312d688c",
   "metadata": {},
   "outputs": [],
   "source": [
    "#SVM + Polynomial Kernel with C = 100\n",
    "svc = svm.SVC(C = 100, kernel=\"poly\", verbose=10)\n",
    "svc.fit(X_train,y_train)\n",
    "yhat_tr = svc.predict(X_train)\n",
    "acc = np.mean(yhat_tr == y_train)\n",
    "print('Training Accuracy: {}%'.format(acc * 100))\n",
    "yhat_val = svc.predict(X_val)\n",
    "acc = np.mean(yhat_val == y_val)\n",
    "print('Testing Accuracy: {}%'.format(acc * 100))"
   ]
  },
  {
   "cell_type": "code",
   "execution_count": null,
   "id": "1e9a6cdb",
   "metadata": {},
   "outputs": [],
   "source": [
    "#SVM + RBF Kernel with C = 0.01\n",
    "svc = svm.SVC(C = 0.01, kernel=\"rbf\", verbose=10)\n",
    "svc.fit(X_train,y_train)\n",
    "yhat_tr = svc.predict(X_train)\n",
    "acc = np.mean(yhat_tr == y_train)\n",
    "print('Training Accuracy: {}%'.format(acc * 100))\n",
    "yhat_val = svc.predict(X_val)\n",
    "acc = np.mean(yhat_val == y_val)\n",
    "print('Testing Accuracy: {}%'.format(acc * 100))"
   ]
  },
  {
   "cell_type": "code",
   "execution_count": null,
   "id": "cec3c90b",
   "metadata": {},
   "outputs": [],
   "source": [
    "#SVM + RBF Kernel with C = 0.1\n",
    "svc = svm.SVC(C = 0.1, kernel=\"rbf\", verbose=10)\n",
    "svc.fit(X_train,y_train)\n",
    "yhat_tr = svc.predict(X_train)\n",
    "acc = np.mean(yhat_tr == y_train)\n",
    "print('Training Accuracy: {}%'.format(acc * 100))\n",
    "yhat_val = svc.predict(X_val)\n",
    "acc = np.mean(yhat_val == y_val)\n",
    "print('Testing Accuracy: {}%'.format(acc * 100))"
   ]
  },
  {
   "cell_type": "code",
   "execution_count": null,
   "id": "1671bd7a",
   "metadata": {},
   "outputs": [],
   "source": [
    "#SVM + RBF Kernel with C = 1\n",
    "svc = svm.SVC(C = 1, kernel=\"rbf\", verbose=10)\n",
    "svc.fit(X_train,y_train)\n",
    "yhat_tr = svc.predict(X_train)\n",
    "acc = np.mean(yhat_tr == y_train)\n",
    "print('Training Accuracy: {}%'.format(acc * 100))\n",
    "yhat_val = svc.predict(X_val)\n",
    "acc = np.mean(yhat_val == y_val)\n",
    "print('Testing Accuracy: {}%'.format(acc * 100))"
   ]
  },
  {
   "cell_type": "code",
   "execution_count": null,
   "id": "29840c90",
   "metadata": {},
   "outputs": [],
   "source": [
    "#SVM + RBF Kernel with C = 10\n",
    "svc = svm.SVC(C = 10, kernel=\"rbf\", verbose=10)\n",
    "svc.fit(X_train,y_train)\n",
    "yhat_tr = svc.predict(X_train)\n",
    "acc = np.mean(yhat_tr == y_train)\n",
    "print('Training Accuracy: {}%'.format(acc * 100))\n",
    "yhat_val = svc.predict(X_val)\n",
    "acc = np.mean(yhat_val == y_val)\n",
    "print('Testing Accuracy: {}%'.format(acc * 100))"
   ]
  },
  {
   "cell_type": "code",
   "execution_count": null,
   "id": "d680badb",
   "metadata": {},
   "outputs": [],
   "source": [
    "#SVM + RBF Kernel with C = 100\n",
    "svc = svm.SVC(C = 100, kernel=\"rbf\", verbose=10)\n",
    "svc.fit(X_train,y_train)\n",
    "yhat_tr = svc.predict(X_train)\n",
    "acc = np.mean(yhat_tr == y_train)\n",
    "print('Training Accuracy: {}%'.format(acc * 100))\n",
    "yhat_val = svc.predict(X_val)\n",
    "acc = np.mean(yhat_val == y_val)\n",
    "print('Testing Accuracy: {}%'.format(acc * 100))"
   ]
  },
  {
   "cell_type": "code",
   "execution_count": 15,
   "id": "50b23305",
   "metadata": {},
   "outputs": [],
   "source": [
    "#Squaring the features\n",
    "X_new = preprocessing.StandardScaler().fit_transform(finalX**2)\n",
    "X_train, X_val, y_train, y_val = train_test_split(X_new, logY, test_size = 0.05, random_state=10, shuffle=True)"
   ]
  },
  {
   "cell_type": "code",
   "execution_count": 11,
   "id": "48804f30",
   "metadata": {},
   "outputs": [
    {
     "name": "stdout",
     "output_type": "stream",
     "text": [
      "Logistic regression + squared features + no regularization\n",
      "Test accuracy is 100.0%\n",
      "Val accuracy is 54.37499999999999%\n"
     ]
    }
   ],
   "source": [
    "logreg = LogisticRegression(penalty='none', multi_class = 'multinomial', max_iter = 1800)\n",
    "logreg.fit(X_train, y_train)\n",
    "print(\"Logistic regression + squared features + no regularization\")\n",
    "y_pred = logreg.predict(X_train)\n",
    "print('Test accuracy is {}%'.format(accuracy_score(y_train, y_pred) * 100))\n",
    "y_pred = logreg.predict(X_val)\n",
    "print('Val accuracy is {}%'.format(accuracy_score(y_val, y_pred) * 100))"
   ]
  },
  {
   "cell_type": "code",
   "execution_count": 36,
   "id": "7da8e6ac",
   "metadata": {},
   "outputs": [
    {
     "name": "stdout",
     "output_type": "stream",
     "text": [
      "Logistic regression + squared features + l2 regularization, C = .01\n",
      "Test accuracy is 100.0%\n",
      "Prediction accuracy is 57.8125%\n"
     ]
    }
   ],
   "source": [
    "logreg = LogisticRegression(penalty='l2', C = 0.01, multi_class = 'multinomial', max_iter = 1000)\n",
    "logreg.fit(X_train, y_train)\n",
    "print(\"Logistic regression + squared features + l2 regularization, C = .01\")\n",
    "y_pred = logreg.predict(X_train)\n",
    "print('Test accuracy is {}%'.format(accuracy_score(y_train, y_pred) * 100))\n",
    "y_pred = logreg.predict(X_val)\n",
    "print('Prediction accuracy is {}%'.format(accuracy_score(y_val, y_pred) * 100))"
   ]
  },
  {
   "cell_type": "code",
   "execution_count": 37,
   "id": "dff007bc",
   "metadata": {},
   "outputs": [
    {
     "name": "stdout",
     "output_type": "stream",
     "text": [
      "Logistic regression + squared features + l2 regularization, C = .1\n",
      "Test accuracy is 100.0%\n",
      "Prediction accuracy is 58.12500000000001%\n"
     ]
    }
   ],
   "source": [
    "logreg = LogisticRegression(penalty='l2', C = 0.1, multi_class = 'multinomial', max_iter = 1500)\n",
    "logreg.fit(X_train, y_train)\n",
    "print(\"Logistic regression + squared features + l2 regularization, C = .1\")\n",
    "y_pred = logreg.predict(X_train)\n",
    "print('Test accuracy is {}%'.format(accuracy_score(y_train, y_pred) * 100))\n",
    "y_pred = logreg.predict(X_val)\n",
    "print('Prediction accuracy is {}%'.format(accuracy_score(y_val, y_pred) * 100))"
   ]
  },
  {
   "cell_type": "code",
   "execution_count": 38,
   "id": "aa164373",
   "metadata": {},
   "outputs": [
    {
     "name": "stdout",
     "output_type": "stream",
     "text": [
      "Logistic regression + squared features + l2 regularization, C = 1\n",
      "Test accuracy is 100.0%\n",
      "Val accuracy is 57.8125%\n"
     ]
    }
   ],
   "source": [
    "logreg = LogisticRegression(penalty='l2', C = 1, multi_class = 'multinomial', max_iter = 1600)\n",
    "logreg.fit(X_train, y_train)\n",
    "print(\"Logistic regression + squared features + l2 regularization, C = 1\")\n",
    "y_pred = logreg.predict(X_train)\n",
    "print('Test accuracy is {}%'.format(accuracy_score(y_train, y_pred) * 100))\n",
    "y_pred = logreg.predict(X_val)\n",
    "print('Val accuracy is {}%'.format(accuracy_score(y_val, y_pred) * 100))"
   ]
  },
  {
   "cell_type": "code",
   "execution_count": 39,
   "id": "c98c0d7a",
   "metadata": {},
   "outputs": [
    {
     "name": "stdout",
     "output_type": "stream",
     "text": [
      "Logistic regression + squared features + l2 regularization, C = 10\n",
      "Test accuracy is 100.0%\n",
      "Val accuracy is 57.49999999999999%\n"
     ]
    }
   ],
   "source": [
    "logreg = LogisticRegression(penalty='l2', C = 10, multi_class = 'multinomial', max_iter = 1800)\n",
    "logreg.fit(X_train, y_train)\n",
    "print(\"Logistic regression + squared features + l2 regularization, C = 10\")\n",
    "y_pred = logreg.predict(X_train)\n",
    "print('Test accuracy is {}%'.format(accuracy_score(y_train, y_pred) * 100))\n",
    "y_pred = logreg.predict(X_val)\n",
    "print('Val accuracy is {}%'.format(accuracy_score(y_val, y_pred) * 100))"
   ]
  },
  {
   "cell_type": "code",
   "execution_count": 40,
   "id": "3c41a138",
   "metadata": {},
   "outputs": [
    {
     "name": "stdout",
     "output_type": "stream",
     "text": [
      "Logistic regression + squared features + l2 regularization, C = 20\n",
      "Test accuracy is 100.0%\n",
      "Val accuracy is 57.49999999999999%\n"
     ]
    }
   ],
   "source": [
    "logreg = LogisticRegression(penalty='l2', C = 20, multi_class = 'multinomial', max_iter = 2000)\n",
    "logreg.fit(X_train, y_train)\n",
    "print(\"Logistic regression + squared features + l2 regularization, C = 20\")\n",
    "y_pred = logreg.predict(X_train)\n",
    "print('Test accuracy is {}%'.format(accuracy_score(y_train, y_pred) * 100))\n",
    "y_pred = logreg.predict(X_val)\n",
    "print('Val accuracy is {}%'.format(accuracy_score(y_val, y_pred) * 100))"
   ]
  },
  {
   "cell_type": "code",
   "execution_count": 17,
   "id": "de53ab4e",
   "metadata": {},
   "outputs": [
    {
     "name": "stdout",
     "output_type": "stream",
     "text": [
      "Logistic regression + squared features + l1 regularization, C = .01\n",
      "Test accuracy is 66.06907894736842%\n",
      "Prediction accuracy is 54.6875%\n"
     ]
    }
   ],
   "source": [
    "logreg = LogisticRegression(penalty='l1', solver = 'liblinear', C = 0.01, max_iter = 1000)\n",
    "logreg.fit(X_train, y_train)\n",
    "print(\"Logistic regression + squared features + l1 regularization, C = .01\")\n",
    "y_pred = logreg.predict(X_train)\n",
    "print('Test accuracy is {}%'.format(accuracy_score(y_train, y_pred) * 100))\n",
    "y_pred = logreg.predict(X_val)\n",
    "print('Prediction accuracy is {}%'.format(accuracy_score(y_val, y_pred) * 100))"
   ]
  },
  {
   "cell_type": "code",
   "execution_count": 19,
   "id": "98af2cfc",
   "metadata": {},
   "outputs": [
    {
     "name": "stdout",
     "output_type": "stream",
     "text": [
      "Logistic regression + squared features + l1 regularization, C = .1\n",
      "Test accuracy is 99.98355263157895%\n",
      "Prediction accuracy is 54.6875%\n"
     ]
    }
   ],
   "source": [
    "logreg = LogisticRegression(penalty='l1', solver = 'liblinear', C = 0.1, max_iter = 1000)\n",
    "logreg.fit(X_train, y_train)\n",
    "print(\"Logistic regression + squared features + l1 regularization, C = .1\")\n",
    "y_pred = logreg.predict(X_train)\n",
    "print('Test accuracy is {}%'.format(accuracy_score(y_train, y_pred) * 100))\n",
    "y_pred = logreg.predict(X_val)\n",
    "print('Prediction accuracy is {}%'.format(accuracy_score(y_val, y_pred) * 100))"
   ]
  },
  {
   "cell_type": "code",
   "execution_count": 20,
   "id": "97773752",
   "metadata": {},
   "outputs": [
    {
     "name": "stdout",
     "output_type": "stream",
     "text": [
      "Logistic regression + squared features + l1 regularization, C = 1\n",
      "Test accuracy is 100.0%\n",
      "Prediction accuracy is 56.875%\n"
     ]
    }
   ],
   "source": [
    "logreg = LogisticRegression(penalty='l1', solver = 'liblinear', C = 1, max_iter = 1000)\n",
    "logreg.fit(X_train, y_train)\n",
    "print(\"Logistic regression + squared features + l1 regularization, C = 1\")\n",
    "y_pred = logreg.predict(X_train)\n",
    "print('Test accuracy is {}%'.format(accuracy_score(y_train, y_pred) * 100))\n",
    "y_pred = logreg.predict(X_val)\n",
    "print('Prediction accuracy is {}%'.format(accuracy_score(y_val, y_pred) * 100))"
   ]
  },
  {
   "cell_type": "code",
   "execution_count": 21,
   "id": "6999d247",
   "metadata": {},
   "outputs": [
    {
     "name": "stdout",
     "output_type": "stream",
     "text": [
      "Logistic regression + squared features + l1 regularization, C = 10\n",
      "Test accuracy is 100.0%\n",
      "Prediction accuracy is 55.00000000000001%\n"
     ]
    }
   ],
   "source": [
    "logreg = LogisticRegression(penalty='l1', solver = 'liblinear', C = 10, max_iter = 1000)\n",
    "logreg.fit(X_train, y_train)\n",
    "print(\"Logistic regression + squared features + l1 regularization, C = 10\")\n",
    "y_pred = logreg.predict(X_train)\n",
    "print('Test accuracy is {}%'.format(accuracy_score(y_train, y_pred) * 100))\n",
    "y_pred = logreg.predict(X_val)\n",
    "print('Prediction accuracy is {}%'.format(accuracy_score(y_val, y_pred) * 100))"
   ]
  },
  {
   "cell_type": "code",
   "execution_count": 22,
   "id": "f0eb8553",
   "metadata": {
    "scrolled": true
   },
   "outputs": [
    {
     "name": "stdout",
     "output_type": "stream",
     "text": [
      "Logistic regression + squared features + l1 regularization, C = 20\n",
      "Test accuracy is 100.0%\n",
      "Prediction accuracy is 55.3125%\n"
     ]
    }
   ],
   "source": [
    "logreg = LogisticRegression(penalty='l1', solver = 'liblinear', C = 20, max_iter = 1000)\n",
    "logreg.fit(X_train, y_train)\n",
    "print(\"Logistic regression + squared features + l1 regularization, C = 20\")\n",
    "y_pred = logreg.predict(X_train)\n",
    "print('Test accuracy is {}%'.format(accuracy_score(y_train, y_pred) * 100))\n",
    "y_pred = logreg.predict(X_val)\n",
    "print('Prediction accuracy is {}%'.format(accuracy_score(y_val, y_pred) * 100))"
   ]
  },
  {
   "cell_type": "code",
   "execution_count": 24,
   "id": "62df85a1",
   "metadata": {
    "scrolled": true
   },
   "outputs": [
    {
     "name": "stdout",
     "output_type": "stream",
     "text": [
      "hello\n"
     ]
    }
   ],
   "source": [
    "#Cubing the features\n",
    "X_new = preprocessing.StandardScaler().fit_transform(finalX**3)\n",
    "X_train, X_val, y_train, y_val = train_test_split(X_new, logY, test_size = 0.05, random_state=10, shuffle=True)\n",
    "print(\"hello\")"
   ]
  },
  {
   "cell_type": "code",
   "execution_count": 25,
   "id": "127b5a9f",
   "metadata": {},
   "outputs": [
    {
     "name": "stdout",
     "output_type": "stream",
     "text": [
      "Logistic regression + cubed features + no regularization\n",
      "Test accuracy is 100.0%\n",
      "Val accuracy is 44.0625%\n"
     ]
    }
   ],
   "source": [
    "logreg = LogisticRegression(penalty='none', multi_class = 'multinomial', max_iter = 1200)\n",
    "logreg.fit(X_train, y_train)\n",
    "print(\"Logistic regression + cubed features + no regularization\")\n",
    "y_pred = logreg.predict(X_train)\n",
    "print('Test accuracy is {}%'.format(accuracy_score(y_train, y_pred) * 100))\n",
    "y_pred = logreg.predict(X_val)\n",
    "print('Val accuracy is {}%'.format(accuracy_score(y_val, y_pred) * 100))"
   ]
  },
  {
   "cell_type": "code",
   "execution_count": 26,
   "id": "6a7bd81e",
   "metadata": {},
   "outputs": [
    {
     "name": "stdout",
     "output_type": "stream",
     "text": [
      "Logistic regression + cubed features + l2 regularization, C = .01\n",
      "Test accuracy is 100.0%\n",
      "Prediction accuracy is 50.31250000000001%\n"
     ]
    }
   ],
   "source": [
    "logreg = LogisticRegression(penalty='l2', C = 0.01, multi_class = 'multinomial', max_iter = 1000)\n",
    "logreg.fit(X_train, y_train)\n",
    "print(\"Logistic regression + cubed features + l2 regularization, C = .01\")\n",
    "y_pred = logreg.predict(X_train)\n",
    "print('Test accuracy is {}%'.format(accuracy_score(y_train, y_pred) * 100))\n",
    "y_pred = logreg.predict(X_val)\n",
    "print('Prediction accuracy is {}%'.format(accuracy_score(y_val, y_pred) * 100))"
   ]
  },
  {
   "cell_type": "code",
   "execution_count": 27,
   "id": "edc79b01",
   "metadata": {},
   "outputs": [
    {
     "name": "stdout",
     "output_type": "stream",
     "text": [
      "Logistic regression + cubed features + l2 regularization, C = .1\n",
      "Test accuracy is 100.0%\n",
      "Prediction accuracy is 49.0625%\n"
     ]
    }
   ],
   "source": [
    "logreg = LogisticRegression(penalty='l2', C = 0.1, multi_class = 'multinomial', max_iter = 1000)\n",
    "logreg.fit(X_train, y_train)\n",
    "print(\"Logistic regression + cubed features + l2 regularization, C = .1\")\n",
    "y_pred = logreg.predict(X_train)\n",
    "print('Test accuracy is {}%'.format(accuracy_score(y_train, y_pred) * 100))\n",
    "y_pred = logreg.predict(X_val)\n",
    "print('Prediction accuracy is {}%'.format(accuracy_score(y_val, y_pred) * 100))"
   ]
  },
  {
   "cell_type": "code",
   "execution_count": 28,
   "id": "c3b0a5fb",
   "metadata": {},
   "outputs": [
    {
     "name": "stdout",
     "output_type": "stream",
     "text": [
      "Logistic regression + cubed features + l2 regularization, C = 1\n",
      "Test accuracy is 100.0%\n",
      "Prediction accuracy is 49.375%\n"
     ]
    }
   ],
   "source": [
    "logreg = LogisticRegression(penalty='l2', C = 1, multi_class = 'multinomial', max_iter = 1000)\n",
    "logreg.fit(X_train, y_train)\n",
    "print(\"Logistic regression + cubed features + l2 regularization, C = 1\")\n",
    "y_pred = logreg.predict(X_train)\n",
    "print('Test accuracy is {}%'.format(accuracy_score(y_train, y_pred) * 100))\n",
    "y_pred = logreg.predict(X_val)\n",
    "print('Prediction accuracy is {}%'.format(accuracy_score(y_val, y_pred) * 100))"
   ]
  },
  {
   "cell_type": "code",
   "execution_count": 29,
   "id": "7bc9401e",
   "metadata": {},
   "outputs": [
    {
     "name": "stdout",
     "output_type": "stream",
     "text": [
      "Logistic regression + cubed features + l2 regularization, C = 10\n",
      "Test accuracy is 100.0%\n",
      "Prediction accuracy is 48.75%\n"
     ]
    }
   ],
   "source": [
    "logreg = LogisticRegression(penalty='l2', C = 10, multi_class = 'multinomial', max_iter = 1000)\n",
    "logreg.fit(X_train, y_train)\n",
    "print(\"Logistic regression + cubed features + l2 regularization, C = 10\")\n",
    "y_pred = logreg.predict(X_train)\n",
    "print('Test accuracy is {}%'.format(accuracy_score(y_train, y_pred) * 100))\n",
    "y_pred = logreg.predict(X_val)\n",
    "print('Prediction accuracy is {}%'.format(accuracy_score(y_val, y_pred) * 100))"
   ]
  },
  {
   "cell_type": "code",
   "execution_count": 30,
   "id": "ecc6b24b",
   "metadata": {},
   "outputs": [
    {
     "name": "stdout",
     "output_type": "stream",
     "text": [
      "Logistic regression + cubed features + l2 regularization, C = 20\n",
      "Test accuracy is 100.0%\n",
      "Prediction accuracy is 49.0625%\n"
     ]
    }
   ],
   "source": [
    "logreg = LogisticRegression(penalty='l2', C = 20, multi_class = 'multinomial', max_iter = 1000)\n",
    "logreg.fit(X_train, y_train)\n",
    "print(\"Logistic regression + cubed features + l2 regularization, C = 20\")\n",
    "y_pred = logreg.predict(X_train)\n",
    "print('Test accuracy is {}%'.format(accuracy_score(y_train, y_pred) * 100))\n",
    "y_pred = logreg.predict(X_val)\n",
    "print('Prediction accuracy is {}%'.format(accuracy_score(y_val, y_pred) * 100))"
   ]
  },
  {
   "cell_type": "code",
   "execution_count": 31,
   "id": "05aa0787",
   "metadata": {},
   "outputs": [
    {
     "name": "stdout",
     "output_type": "stream",
     "text": [
      "Logistic regression + cubed features + l1 regularization, C = .01\n",
      "Test accuracy is 61.809210526315795%\n",
      "Prediction accuracy is 51.24999999999999%\n"
     ]
    }
   ],
   "source": [
    "logreg = LogisticRegression(penalty='l1', solver = 'liblinear', C = 0.01, max_iter = 1000)\n",
    "logreg.fit(X_train, y_train)\n",
    "print(\"Logistic regression + cubed features + l1 regularization, C = .01\")\n",
    "y_pred = logreg.predict(X_train)\n",
    "print('Test accuracy is {}%'.format(accuracy_score(y_train, y_pred) * 100))\n",
    "y_pred = logreg.predict(X_val)\n",
    "print('Prediction accuracy is {}%'.format(accuracy_score(y_val, y_pred) * 100))"
   ]
  },
  {
   "cell_type": "code",
   "execution_count": 32,
   "id": "56dc3e09",
   "metadata": {},
   "outputs": [
    {
     "name": "stdout",
     "output_type": "stream",
     "text": [
      "Logistic regression + cubed features + l1 regularization, C = .1\n",
      "Test accuracy is 99.98355263157895%\n",
      "Prediction accuracy is 50.31250000000001%\n"
     ]
    }
   ],
   "source": [
    "logreg = LogisticRegression(penalty='l1', solver = 'liblinear', C = 0.1, max_iter = 1000)\n",
    "logreg.fit(X_train, y_train)\n",
    "print(\"Logistic regression + cubed features + l1 regularization, C = .1\")\n",
    "y_pred = logreg.predict(X_train)\n",
    "print('Test accuracy is {}%'.format(accuracy_score(y_train, y_pred) * 100))\n",
    "y_pred = logreg.predict(X_val)\n",
    "print('Prediction accuracy is {}%'.format(accuracy_score(y_val, y_pred) * 100))"
   ]
  },
  {
   "cell_type": "code",
   "execution_count": 33,
   "id": "2fc93b94",
   "metadata": {},
   "outputs": [
    {
     "name": "stdout",
     "output_type": "stream",
     "text": [
      "Logistic regression + cubed features + l1 regularization, C = 1\n",
      "Test accuracy is 100.0%\n",
      "Prediction accuracy is 50.0%\n"
     ]
    }
   ],
   "source": [
    "logreg = LogisticRegression(penalty='l1', solver = 'liblinear', C = 1, max_iter = 1000)\n",
    "logreg.fit(X_train, y_train)\n",
    "print(\"Logistic regression + cubed features + l1 regularization, C = 1\")\n",
    "y_pred = logreg.predict(X_train)\n",
    "print('Test accuracy is {}%'.format(accuracy_score(y_train, y_pred) * 100))\n",
    "y_pred = logreg.predict(X_val)\n",
    "print('Prediction accuracy is {}%'.format(accuracy_score(y_val, y_pred) * 100))"
   ]
  },
  {
   "cell_type": "code",
   "execution_count": 34,
   "id": "29808ac4",
   "metadata": {},
   "outputs": [
    {
     "name": "stdout",
     "output_type": "stream",
     "text": [
      "Logistic regression + cubed features + l1 regularization, C = 10\n",
      "Test accuracy is 100.0%\n",
      "Prediction accuracy is 51.24999999999999%\n"
     ]
    }
   ],
   "source": [
    "logreg = LogisticRegression(penalty='l1', solver = 'liblinear', C = 10, max_iter = 1000)\n",
    "logreg.fit(X_train, y_train)\n",
    "print(\"Logistic regression + cubed features + l1 regularization, C = 10\")\n",
    "y_pred = logreg.predict(X_train)\n",
    "print('Test accuracy is {}%'.format(accuracy_score(y_train, y_pred) * 100))\n",
    "y_pred = logreg.predict(X_val)\n",
    "print('Prediction accuracy is {}%'.format(accuracy_score(y_val, y_pred) * 100))"
   ]
  },
  {
   "cell_type": "code",
   "execution_count": 35,
   "id": "a257f5ea",
   "metadata": {},
   "outputs": [
    {
     "name": "stdout",
     "output_type": "stream",
     "text": [
      "Logistic regression + cubed features + l1 regularization, C = 20\n",
      "Test accuracy is 100.0%\n",
      "Prediction accuracy is 50.625%\n"
     ]
    }
   ],
   "source": [
    "logreg = LogisticRegression(penalty='l1', solver = 'liblinear', C = 20, max_iter = 1000)\n",
    "logreg.fit(X_train, y_train)\n",
    "print(\"Logistic regression + cubed features + l1 regularization, C = 20\")\n",
    "y_pred = logreg.predict(X_train)\n",
    "print('Test accuracy is {}%'.format(accuracy_score(y_train, y_pred) * 100))\n",
    "y_pred = logreg.predict(X_val)\n",
    "print('Prediction accuracy is {}%'.format(accuracy_score(y_val, y_pred) * 100))"
   ]
  },
  {
   "cell_type": "code",
   "execution_count": 72,
   "id": "6de4d7f0",
   "metadata": {},
   "outputs": [
    {
     "name": "stdout",
     "output_type": "stream",
     "text": [
      "(475, 78)\n",
      "Linear regression + no regularization\n",
      "1156015696480714.5\n",
      "[-1.15601570e+15 -1.75165380e+15 -5.73692985e+00  2.42349146e+00\n",
      " -1.15578745e+00  6.66358241e+00  6.52777649e+00  2.86162299e+00\n",
      "  8.24154261e+00  1.78125000e+00  4.46875000e+00 -2.53125000e+00\n",
      "  1.24838477e+15 -9.91544563e+14 -1.87040207e+15  1.21171149e+15\n",
      "  9.42494855e+14  1.92670120e+14 -1.13478520e+15  4.35183497e+14\n",
      " -1.99308168e+15  2.79384768e+15  8.22485391e+14 -1.40625000e-01\n",
      " -2.50000000e+00 -1.17187500e+00 -5.62500000e-01  4.56250000e+00\n",
      " -2.75000000e+00 -1.87500000e-01  6.06250000e+00 -6.25000000e+00\n",
      "  5.37500000e+00 -3.53906250e+00  1.06250000e+00 -5.12500000e+00\n",
      "  6.46875000e+00  6.87500000e+00 -4.87500000e+00 -6.25000000e-01\n",
      "  2.20312500e+00  5.56250000e+00 -1.00000000e+00  6.34375000e+00\n",
      "  3.35156250e+00  4.40625000e+00  8.12500000e+00 -3.28906250e+00\n",
      "  9.84375000e-01  2.34375000e+00 -1.87500000e-01 -4.85937500e+00\n",
      " -8.25000000e+00 -3.31250000e+00  8.78125000e+00 -1.11718750e+00\n",
      " -1.87500000e+00  1.81250000e+00 -6.25000000e-02  7.50000000e+00\n",
      " -8.71093750e-01 -3.70312500e+00  3.60937500e+00  2.93750000e+00\n",
      " -3.37500000e+00 -4.71875000e+00  9.03906250e+00 -4.81250000e+00\n",
      "  2.21875000e+00  5.06250000e+00 -2.18750000e-01  3.62500000e+00\n",
      "  1.00000000e+01 -4.70214844e+00 -1.35937500e+00 -4.87500000e+00\n",
      " -1.41445312e+01 -1.27343750e+00]\n"
     ]
    }
   ],
   "source": [
    "#Transforming X with Poly degree 2 - Too many features\n",
    "#Needs several TiB of space, without slicing\n",
    "'''\n",
    "transform = PolynomialFeatures(degree=2)\n",
    "polyX_train = transform.fit_transform(X_train)\n",
    "print(polyX_train.shape)\n",
    "\n",
    "lreg = linear_model.LinearRegression()\n",
    "lreg.fit(polyX_train, y2_train)\n",
    "print(\"Linear regression + no regularization\")\n",
    "print(lreg.intercept_)\n",
    "print(lreg.coef_)\n",
    "'''"
   ]
  },
  {
   "cell_type": "code",
   "execution_count": null,
   "id": "4994b6ef",
   "metadata": {},
   "outputs": [],
   "source": [
    "X_new = preprocessing.StandardScaler().fit_transform(finalX)\n",
    "X_train, X_val, y_train, y_val = train_test_split(X_new, logY, test_size = 0.05, random_state=10, shuffle=True)\n",
    "print(\"Hello\")"
   ]
  },
  {
   "cell_type": "code",
   "execution_count": 29,
   "id": "c1edddaa",
   "metadata": {},
   "outputs": [
    {
     "name": "stdout",
     "output_type": "stream",
     "text": [
      "Neural Network + l2 regularization, alpha = 1e-5\n",
      "hello\n"
     ]
    }
   ],
   "source": [
    "clf = MLPClassifier(solver='lbfgs', alpha=1e-5, hidden_layer_sizes=(5, 3, 2), random_state=1, max_iter=2000)\n",
    "clf.fit(X_train, y_train)\n",
    "print(\"Neural Network + l2 regularization, alpha = 1e-5\")\n",
    "print(\"hello\")"
   ]
  },
  {
   "cell_type": "code",
   "execution_count": 30,
   "id": "677a281b",
   "metadata": {
    "scrolled": true
   },
   "outputs": [
    {
     "name": "stdout",
     "output_type": "stream",
     "text": [
      "[array([ 0.11725884, -0.31365786, -0.12674229, -0.4146353 , -0.51415272]), array([15.61326176, -0.19105061,  0.0656996 ]), array([12.46862568, -0.4010712 ]), array([-3.50727229, -5.03997249,  5.51392448,  1.05215259])]\n",
      "[array([[-0.00317514,  0.00843069, -0.01912806, -0.00756372, -0.01351684],\n",
      "       [-0.01559911, -0.01200522, -0.0059096 , -0.00395018,  0.00148532],\n",
      "       [-0.00309201,  0.0070874 , -0.0113091 ,  0.01446862, -0.01808446],\n",
      "       ...,\n",
      "       [-0.0059324 , -0.01410272,  0.00279417, -0.01563012, -0.01093436],\n",
      "       [ 0.0003528 ,  0.00432246, -0.00372503, -0.00722881,  0.00452793],\n",
      "       [-0.00104972,  0.01508925, -0.01369504, -0.00543454,  0.01117801]]), array([[ 1.75369945, -0.94480827, -1.05595654],\n",
      "       [-1.25194651,  0.22834168,  0.86966999],\n",
      "       [-0.84946556, -0.24644062,  0.43195997],\n",
      "       [-0.87501135, -0.61483635,  1.08522852],\n",
      "       [-1.42902772,  0.78659292,  0.49206844]]), array([[15.79693745, -0.28162178],\n",
      "       [-0.25497082, -0.11095993],\n",
      "       [-0.25708808, -0.61271392]]), array([[  4.79264135,   4.8199987 , -14.48249966,   4.13131031],\n",
      "       [  0.80228052,  -0.83816345,  -0.96790143,  -0.55417125]])]\n",
      "(320,)\n",
      "Test accuracy is 99.55592105263158%\n",
      "Val accuracy is 81.5625%\n"
     ]
    }
   ],
   "source": [
    "print(clf.intercepts_)\n",
    "print(clf.coefs_)\n",
    "y_pred = clf.predict(X_train)\n",
    "print(y_val.shape)\n",
    "print('Test accuracy is {}%'.format(accuracy_score(y_train, y_pred) * 100))\n",
    "y_pred = clf.predict(X_val)\n",
    "print('Val accuracy is {}%'.format(accuracy_score(y_val, y_pred) * 100))"
   ]
  },
  {
   "cell_type": "code",
   "execution_count": null,
   "id": "e9a4b756",
   "metadata": {},
   "outputs": [],
   "source": []
  }
 ],
 "metadata": {
  "kernelspec": {
   "display_name": "Python 3 (ipykernel)",
   "language": "python",
   "name": "python3"
  },
  "language_info": {
   "codemirror_mode": {
    "name": "ipython",
    "version": 3
   },
   "file_extension": ".py",
   "mimetype": "text/x-python",
   "name": "python",
   "nbconvert_exporter": "python",
   "pygments_lexer": "ipython3",
   "version": "3.9.7"
  }
 },
 "nbformat": 4,
 "nbformat_minor": 5
}
